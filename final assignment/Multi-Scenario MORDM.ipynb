{
 "cells": [
  {
   "cell_type": "markdown",
   "id": "42a684d0",
   "metadata": {},
   "source": [
    "# Opimization"
   ]
  },
  {
   "cell_type": "code",
   "execution_count": 1,
   "id": "cd1267e2",
   "metadata": {},
   "outputs": [],
   "source": [
    "import pandas as pd\n",
    "import numpy as np\n",
    "import matplotlib.pyplot as plt\n",
    "import seaborn as sns"
   ]
  },
  {
   "cell_type": "code",
   "execution_count": 2,
   "id": "8f1980a3",
   "metadata": {},
   "outputs": [],
   "source": [
    "from ema_workbench import ema_logging, MultiprocessingEvaluator, Scenario, Policy, save_results, load_results, Samplers, ScalarOutcome\n",
    "from ema_workbench.em_framework.optimization import EpsilonProgress, ArchiveLogger\n",
    "from ema_workbench.em_framework import get_SALib_problem\n",
    "from ema_workbench.analysis import parcoords\n",
    "from SALib.analyze.sobol import analyze\n",
    "from problem_formulation import get_model_for_problem_formulation"
   ]
  },
  {
   "cell_type": "markdown",
   "id": "e46c5ca5",
   "metadata": {},
   "source": [
    "## MORDM"
   ]
  },
  {
   "cell_type": "markdown",
   "id": "f9d88fc3",
   "metadata": {},
   "source": [
    "- set model and paramters (nfe and epsiolon), ref scenario\n",
    "- search candidate solutions (single scenario mordm)\n",
    "- check convergence\n",
    "- plot\n",
    "- subspace partitioning \n",
    "- re-evalute under uncertainty\n",
    "- scenario discovery (select 5 scenarios for multi-objective mordm)\n"
   ]
  },
  {
   "cell_type": "markdown",
   "id": "c64a9998",
   "metadata": {},
   "source": [
    "## Multi-Scenario MORDM"
   ]
  },
  {
   "cell_type": "markdown",
   "id": "393efd08",
   "metadata": {},
   "source": [
    "- optimisation over the 5 scenarios\n",
    "- re-evaluate under uncertainty\n",
    "- robustness metrics \n",
    "- SOBOL analysis"
   ]
  },
  {
   "cell_type": "markdown",
   "id": "5958a1e5",
   "metadata": {},
   "source": []
  }
 ],
 "metadata": {
  "kernelspec": {
   "display_name": "ema",
   "language": "python",
   "name": "python3"
  },
  "language_info": {
   "codemirror_mode": {
    "name": "ipython",
    "version": 3
   },
   "file_extension": ".py",
   "mimetype": "text/x-python",
   "name": "python",
   "nbconvert_exporter": "python",
   "pygments_lexer": "ipython3",
   "version": "3.11.11"
  }
 },
 "nbformat": 4,
 "nbformat_minor": 5
}
