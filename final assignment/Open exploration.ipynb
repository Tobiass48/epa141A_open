{
 "cells": [
  {
   "cell_type": "markdown",
   "id": "faf1f156",
   "metadata": {},
   "source": [
    "# Open exploration"
   ]
  },
  {
   "cell_type": "code",
   "execution_count": 7,
   "id": "beb86b49",
   "metadata": {},
   "outputs": [],
   "source": [
    "import numpy as np\n",
    "import pandas as pd\n",
    "import matplotlib.pyplot as plt\n",
    "import seaborn as sns"
   ]
  },
  {
   "cell_type": "code",
   "execution_count": 2,
   "id": "4eac896a",
   "metadata": {},
   "outputs": [],
   "source": [
    "from ema_workbench import Policy, ema_logging, MultiprocessingEvaluator, save_results, load_results\n",
    "from problem_formulation import get_model_for_problem_formulation"
   ]
  },
  {
   "cell_type": "code",
   "execution_count": 3,
   "id": "193d078f",
   "metadata": {},
   "outputs": [],
   "source": [
    "ema_logging.log_to_stderr(ema_logging.INFO)\n",
    "\n",
    "# choosing the problem formulation from 0-5\n",
    "dike_model, planning_steps = get_model_for_problem_formulation(2) # 5-objectives PF\n"
   ]
  },
  {
   "cell_type": "code",
   "execution_count": 4,
   "id": "b3069e33",
   "metadata": {},
   "outputs": [],
   "source": [
    "import copy\n",
    "uncertainties = copy.deepcopy(dike_model.uncertainties)"
   ]
  },
  {
   "cell_type": "markdown",
   "id": "4e8d9d62",
   "metadata": {},
   "source": [
    "Policies to be evaluated in this open exploration: \n",
    "\n",
    "1. \"BAU\": business-as-usual, no changes\n",
    "2. \"Only dike\": only dike heightening\n",
    "3. \"Only RfR\": only room for the river\n",
    "4. \"Final policy debate\" : the agreed policy at the end of the final debate"
   ]
  },
  {
   "cell_type": "code",
   "execution_count": null,
   "id": "16efedcb",
   "metadata": {},
   "outputs": [],
   "source": [
    "def get_do_nothing_dict():\n",
    "    return {l.name:0 for l in dike_model.levers}    \n",
    "    \n",
    "policies = [Policy(\"BAU\",**dict(get_do_nothing_dict(),**{})),\n",
    "            Policy(\"Only dike\", **dict(get_do_nothing_dict(), \n",
    "                                            **{'A.1_DikeIncrease 0':5,\n",
    "                                              'A.1_DikeIncrease 1':5,\n",
    "                                              'A.1_DikeIncrease 2':5,\n",
    "                                              'A.2_DikeIncrease 0':5,\n",
    "                                              'A.2_DikeIncrease 1':5,\n",
    "                                              'A.2_DikeIncrease 2':5,\n",
    "                                              'A.3_DikeIncrease 0':5,\n",
    "                                              'A.3_DikeIncrease 1':5,\n",
    "                                              'A.3_DikeIncrease 2':5,\n",
    "                                              'A.4_DikeIncrease 0':5,\n",
    "                                              'A.4_DikeIncrease 1':5,\n",
    "                                              'A.4_DikeIncrease 2':5,\n",
    "                                              'A.5_DikeIncrease 0':5,\n",
    "                                              'A.5_DikeIncrease 1':5,\n",
    "                                              'A.5_DikeIncrease 2':5})),\n",
    "            Policy(\"Only RfR\", **dict(get_do_nothing_dict(), \n",
    "                                      **{'0_RfR 0':1,\n",
    "                                         '0_RfR 1':1,\n",
    "                                         '0_RfR 2':1,\n",
    "                                         '1_RfR 0':1,\n",
    "                                         '1_RfR 1':1,\n",
    "                                         '1_RfR 2':1,\n",
    "                                         '2_RfR 0':1,\n",
    "                                         '2_RfR 1':1,\n",
    "                                         '2_RfR 2':1,\n",
    "                                         '3_RfR 0':1,\n",
    "                                         '3_RfR 1':1,\n",
    "                                         '3_RfR 2':1,\n",
    "                                         '4_RfR 0':1,\n",
    "                                         '4_RfR 1':1,\n",
    "                                         '4_RfR 2':1,\n",
    "                                         '5_RfR 0':1,\n",
    "                                         '5_RfR 1':1,\n",
    "                                         '5_RfR 2':1,\n",
    "                                         '6_RfR 0':1,\n",
    "                                         '6_RfR 1':1,\n",
    "                                         '6_RfR 2':1})),\n",
    "            Policy(\"Final policy debate\", **dict(get_do_nothing_dict(), \n",
    "                                      **{'0_RfR 0':1,\n",
    "                                         '0_RfR 1':1,\n",
    "                                         '0_RfR 2':1,\n",
    "                                         '1_RfR 0':1,\n",
    "                                         '1_RfR 1':1,\n",
    "                                         '1_RfR 2':1,\n",
    "                                         '2_RfR 0':1,\n",
    "                                         '2_RfR 1':1,\n",
    "                                         '2_RfR 2':1,\n",
    "                                         'A.3_DikeIncrease 0':3,\n",
    "                                         'A.3_DikeIncrease 1':3,\n",
    "                                         'A.3_DikeIncrease 2':3,\n",
    "                                         'A.5_DikeIncrease 0':3,\n",
    "                                         'A.5_DikeIncrease 1':3,\n",
    "                                         'A.5_DikeIncrease 2':3,\n",
    "                                         'EWS_DaysToThreat':3}))]"
   ]
  }
 ],
 "metadata": {
  "kernelspec": {
   "display_name": "ema",
   "language": "python",
   "name": "python3"
  },
  "language_info": {
   "codemirror_mode": {
    "name": "ipython",
    "version": 3
   },
   "file_extension": ".py",
   "mimetype": "text/x-python",
   "name": "python",
   "nbconvert_exporter": "python",
   "pygments_lexer": "ipython3",
   "version": "3.11.11"
  }
 },
 "nbformat": 4,
 "nbformat_minor": 5
}
